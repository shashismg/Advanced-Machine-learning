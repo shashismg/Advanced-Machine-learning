{
  "cells": [
    {
      "cell_type": "code",
      "execution_count": null,
      "id": "cf2baad7-ce99-47b2-9432-acdc1a122dab",
      "metadata": {
        "id": "cf2baad7-ce99-47b2-9432-acdc1a122dab",
        "outputId": "099ccd10-a5f4-4039-eee5-f2e628d0c8df"
      },
      "outputs": [
        {
          "name": "stdout",
          "output_type": "stream",
          "text": [
            "Requirement already satisfied: pymysql in c:\\users\\jaipu\\anaconda3\\lib\\site-packages (1.1.1)\n"
          ]
        }
      ],
      "source": [
        "# Installing required libraries\n",
        "!pip install pymysql"
      ]
    },
    {
      "cell_type": "code",
      "execution_count": null,
      "id": "e4f33bb4-7044-4071-ad30-c29105647f76",
      "metadata": {
        "id": "e4f33bb4-7044-4071-ad30-c29105647f76",
        "outputId": "a2e3f45a-ff66-4840-f16f-064c61e891f3"
      },
      "outputs": [
        {
          "name": "stdout",
          "output_type": "stream",
          "text": [
            "Connection successful. Here is your data :\n"
          ]
        },
        {
          "data": {
            "text/html": [
              "<div>\n",
              "<style scoped>\n",
              "    .dataframe tbody tr th:only-of-type {\n",
              "        vertical-align: middle;\n",
              "    }\n",
              "\n",
              "    .dataframe tbody tr th {\n",
              "        vertical-align: top;\n",
              "    }\n",
              "\n",
              "    .dataframe thead th {\n",
              "        text-align: right;\n",
              "    }\n",
              "</style>\n",
              "<table border=\"1\" class=\"dataframe\">\n",
              "  <thead>\n",
              "    <tr style=\"text-align: right;\">\n",
              "      <th></th>\n",
              "      <th>MyUnknownColumn</th>\n",
              "      <th>Patient_ID</th>\n",
              "      <th>Age</th>\n",
              "      <th>Gender</th>\n",
              "      <th>Tumor_Type</th>\n",
              "      <th>Tumor_Size</th>\n",
              "      <th>Location</th>\n",
              "      <th>Histology</th>\n",
              "      <th>Stage</th>\n",
              "      <th>Symptom_1</th>\n",
              "      <th>Symptom_2</th>\n",
              "      <th>Symptom_3</th>\n",
              "      <th>Radiation_Treatment</th>\n",
              "      <th>Surgery_Performed</th>\n",
              "      <th>Chemotherapy</th>\n",
              "      <th>Survival_Rate</th>\n",
              "      <th>Tumor_Growth_Rate</th>\n",
              "      <th>Family_History</th>\n",
              "      <th>MRI_Result</th>\n",
              "      <th>Follow_Up_Required</th>\n",
              "    </tr>\n",
              "  </thead>\n",
              "  <tbody>\n",
              "    <tr>\n",
              "      <th>0</th>\n",
              "      <td>0</td>\n",
              "      <td>1</td>\n",
              "      <td>73</td>\n",
              "      <td>Male</td>\n",
              "      <td>Malignant</td>\n",
              "      <td>5.375612</td>\n",
              "      <td>Temporal</td>\n",
              "      <td>Astrocytoma</td>\n",
              "      <td>III</td>\n",
              "      <td>Vision Issues</td>\n",
              "      <td>Seizures</td>\n",
              "      <td>Seizures</td>\n",
              "      <td>No</td>\n",
              "      <td>No</td>\n",
              "      <td>No</td>\n",
              "      <td>51.312579</td>\n",
              "      <td>0.111876</td>\n",
              "      <td>No</td>\n",
              "      <td>Positive</td>\n",
              "      <td>Yes</td>\n",
              "    </tr>\n",
              "    <tr>\n",
              "      <th>1</th>\n",
              "      <td>1</td>\n",
              "      <td>2</td>\n",
              "      <td>26</td>\n",
              "      <td>Male</td>\n",
              "      <td>Benign</td>\n",
              "      <td>4.847098</td>\n",
              "      <td>Parietal</td>\n",
              "      <td>Glioblastoma</td>\n",
              "      <td>II</td>\n",
              "      <td>Headache</td>\n",
              "      <td>Headache</td>\n",
              "      <td>Nausea</td>\n",
              "      <td>Yes</td>\n",
              "      <td>Yes</td>\n",
              "      <td>Yes</td>\n",
              "      <td>46.373273</td>\n",
              "      <td>2.165736</td>\n",
              "      <td>Yes</td>\n",
              "      <td>Positive</td>\n",
              "      <td>Yes</td>\n",
              "    </tr>\n",
              "    <tr>\n",
              "      <th>2</th>\n",
              "      <td>2</td>\n",
              "      <td>3</td>\n",
              "      <td>31</td>\n",
              "      <td>Male</td>\n",
              "      <td>Benign</td>\n",
              "      <td>5.588391</td>\n",
              "      <td>Parietal</td>\n",
              "      <td>Meningioma</td>\n",
              "      <td>I</td>\n",
              "      <td>Vision Issues</td>\n",
              "      <td>Headache</td>\n",
              "      <td>Seizures</td>\n",
              "      <td>No</td>\n",
              "      <td>No</td>\n",
              "      <td>No</td>\n",
              "      <td>47.072221</td>\n",
              "      <td>1.884228</td>\n",
              "      <td>No</td>\n",
              "      <td>Negative</td>\n",
              "      <td>No</td>\n",
              "    </tr>\n",
              "    <tr>\n",
              "      <th>3</th>\n",
              "      <td>3</td>\n",
              "      <td>4</td>\n",
              "      <td>29</td>\n",
              "      <td>Male</td>\n",
              "      <td>Malignant</td>\n",
              "      <td>1.436600</td>\n",
              "      <td>Temporal</td>\n",
              "      <td>Medulloblastoma</td>\n",
              "      <td>IV</td>\n",
              "      <td>Vision Issues</td>\n",
              "      <td>Seizures</td>\n",
              "      <td>Headache</td>\n",
              "      <td>Yes</td>\n",
              "      <td>No</td>\n",
              "      <td>Yes</td>\n",
              "      <td>51.853634</td>\n",
              "      <td>1.283342</td>\n",
              "      <td>Yes</td>\n",
              "      <td>Negative</td>\n",
              "      <td>No</td>\n",
              "    </tr>\n",
              "    <tr>\n",
              "      <th>4</th>\n",
              "      <td>4</td>\n",
              "      <td>5</td>\n",
              "      <td>54</td>\n",
              "      <td>Female</td>\n",
              "      <td>Benign</td>\n",
              "      <td>2.417506</td>\n",
              "      <td>Parietal</td>\n",
              "      <td>Glioblastoma</td>\n",
              "      <td>I</td>\n",
              "      <td>Headache</td>\n",
              "      <td>Headache</td>\n",
              "      <td>Seizures</td>\n",
              "      <td>No</td>\n",
              "      <td>No</td>\n",
              "      <td>Yes</td>\n",
              "      <td>54.708987</td>\n",
              "      <td>2.069477</td>\n",
              "      <td>No</td>\n",
              "      <td>Positive</td>\n",
              "      <td>Yes</td>\n",
              "    </tr>\n",
              "  </tbody>\n",
              "</table>\n",
              "</div>"
            ],
            "text/plain": [
              "   MyUnknownColumn  Patient_ID  Age  Gender Tumor_Type  Tumor_Size  Location  \\\n",
              "0                0           1   73    Male  Malignant    5.375612  Temporal   \n",
              "1                1           2   26    Male     Benign    4.847098  Parietal   \n",
              "2                2           3   31    Male     Benign    5.588391  Parietal   \n",
              "3                3           4   29    Male  Malignant    1.436600  Temporal   \n",
              "4                4           5   54  Female     Benign    2.417506  Parietal   \n",
              "\n",
              "         Histology Stage      Symptom_1 Symptom_2 Symptom_3  \\\n",
              "0      Astrocytoma   III  Vision Issues  Seizures  Seizures   \n",
              "1     Glioblastoma    II       Headache  Headache    Nausea   \n",
              "2       Meningioma     I  Vision Issues  Headache  Seizures   \n",
              "3  Medulloblastoma    IV  Vision Issues  Seizures  Headache   \n",
              "4     Glioblastoma     I       Headache  Headache  Seizures   \n",
              "\n",
              "  Radiation_Treatment Surgery_Performed Chemotherapy  Survival_Rate  \\\n",
              "0                  No                No           No      51.312579   \n",
              "1                 Yes               Yes          Yes      46.373273   \n",
              "2                  No                No           No      47.072221   \n",
              "3                 Yes                No          Yes      51.853634   \n",
              "4                  No                No          Yes      54.708987   \n",
              "\n",
              "   Tumor_Growth_Rate Family_History MRI_Result Follow_Up_Required  \n",
              "0           0.111876             No   Positive                Yes  \n",
              "1           2.165736            Yes   Positive                Yes  \n",
              "2           1.884228             No   Negative                 No  \n",
              "3           1.283342            Yes   Negative                 No  \n",
              "4           2.069477             No   Positive                Yes  "
            ]
          },
          "metadata": {},
          "output_type": "display_data"
        },
        {
          "name": "stdout",
          "output_type": "stream",
          "text": [
            "Connection closed succesfully !!!\n"
          ]
        }
      ],
      "source": [
        "# Establishing a connection for MySQL\n",
        "import pymysql\n",
        "import pandas as pd\n",
        "import warnings\n",
        "warnings.filterwarnings('ignore')\n",
        "\n",
        "try:\n",
        "    # Establish the connection\n",
        "    conn = pymysql.connect(\n",
        "        host = '127.0.0.1',\n",
        "        user = 'root',\n",
        "        password = '', # Give your own MySQL password here\n",
        "        port = 3306\n",
        "    )\n",
        "\n",
        "    # Load data into DataFrame\n",
        "    query = \"SELECT * FROM tumor.brain_tumor\"\n",
        "    df = pd.read_sql(query, conn)\n",
        "\n",
        "    # Display the results\n",
        "    print('Connection successful. Here is your data :')\n",
        "    display(df.head())\n",
        "\n",
        "except pymysql.Error as e:\n",
        "    print(f\"MySQL Error : {e}\")\n",
        "\n",
        "finally:\n",
        "    if 'conn' in locals():\n",
        "        conn.close()\n",
        "        print('Connection closed succesfully !!!')"
      ]
    },
    {
      "cell_type": "code",
      "execution_count": null,
      "id": "bdd9ef0d-99b8-4875-937a-45623591cced",
      "metadata": {
        "id": "bdd9ef0d-99b8-4875-937a-45623591cced"
      },
      "outputs": [],
      "source": [
        "# Importing important libraries\n",
        "import numpy as np\n",
        "import pandas as pd\n",
        "import matplotlib.pyplot as plt\n",
        "from sklearn.model_selection import train_test_split\n",
        "from sklearn.preprocessing import LabelEncoder\n",
        "from sklearn.ensemble import RandomForestClassifier\n",
        "from sklearn import metrics\n",
        "import pickle"
      ]
    },
    {
      "cell_type": "code",
      "execution_count": null,
      "id": "41bf365c-6cfc-4360-aa5d-8cda841b202b",
      "metadata": {
        "id": "41bf365c-6cfc-4360-aa5d-8cda841b202b"
      },
      "outputs": [],
      "source": [
        "# Drop irrelevant columns\n",
        "df = df.drop(columns = ['MyUnknownColumn', 'Patient_ID'])"
      ]
    },
    {
      "cell_type": "code",
      "execution_count": null,
      "id": "1eb18055-90c4-443f-a6f4-f6c6001fff5e",
      "metadata": {
        "id": "1eb18055-90c4-443f-a6f4-f6c6001fff5e"
      },
      "outputs": [],
      "source": [
        "# Getting the data\n",
        "df.head()"
      ]
    },
    {
      "cell_type": "code",
      "execution_count": null,
      "id": "ad497716-6487-4da2-bf95-eb49f0923704",
      "metadata": {
        "id": "ad497716-6487-4da2-bf95-eb49f0923704"
      },
      "outputs": [],
      "source": [
        "# EDA\n",
        "import seaborn as sns\n",
        "import matplotlib.pyplot as plt"
      ]
    },
    {
      "cell_type": "code",
      "execution_count": null,
      "id": "1533daca-a120-40fe-bd5d-2738a6bee221",
      "metadata": {
        "id": "1533daca-a120-40fe-bd5d-2738a6bee221"
      },
      "outputs": [],
      "source": [
        "# Plot tumor type distribution\n",
        "plt.figure(figsize = (5, 3))\n",
        "sns.countplot(data = df, x = 'Tumor_Type', palette = 'coolwarm')\n",
        "plt.title(\"Tumor Type Distribution\")\n",
        "plt.xlabel('Tumor Type')\n",
        "plt.ylabel('Frequency')\n",
        "plt.xticks(rotation = 45)\n",
        "plt.tight_layout()\n",
        "plt.show()"
      ]
    },
    {
      "cell_type": "code",
      "execution_count": null,
      "id": "c0da36ad-9a2f-4a35-8323-b47f06774f0b",
      "metadata": {
        "id": "c0da36ad-9a2f-4a35-8323-b47f06774f0b"
      },
      "outputs": [],
      "source": [
        "# Plot the distribution of age\n",
        "plt.figure(figsize = (5, 3))\n",
        "sns.histplot(df['Age'], bins = 20, kde = True, color = 'teal')\n",
        "plt.title('Age Distribution')\n",
        "plt.xlabel('Age')\n",
        "plt.tight_layout()\n",
        "plt.show()"
      ]
    },
    {
      "cell_type": "code",
      "execution_count": null,
      "id": "ae2659fc-90e6-4a03-b949-6bfbfd3adc06",
      "metadata": {
        "id": "ae2659fc-90e6-4a03-b949-6bfbfd3adc06"
      },
      "outputs": [],
      "source": [
        "# Tumor Size vs Survival Rate\n",
        "plt.figure(figsize = (9, 3))\n",
        "sns.scatterplot(data = df, x = 'Tumor_Size', y = 'Survival_Rate', hue = 'Tumor_Type', palette = 'Set2')\n",
        "plt.title('Tumor Size vs Survival Rate')\n",
        "plt.tight_layout()\n",
        "plt.show()"
      ]
    },
    {
      "cell_type": "code",
      "execution_count": null,
      "id": "6c48006b-9315-46fa-8007-a1cd4eb3082e",
      "metadata": {
        "id": "6c48006b-9315-46fa-8007-a1cd4eb3082e"
      },
      "outputs": [],
      "source": [
        "# Correlation Heatmap\n",
        "plt.figure(figsize = (7, 5))\n",
        "corr = df.select_dtypes(include = ['number']).corr()\n",
        "sns.heatmap(corr, annot = True, cmap = 'coolwarm', fmt = '.3f')\n",
        "plt.title('Feature Correlation HeatMap')\n",
        "plt.tight_layout()\n",
        "plt.show()"
      ]
    },
    {
      "cell_type": "code",
      "execution_count": null,
      "id": "5b64f0e7-14da-4e53-94d6-bc667c4c146a",
      "metadata": {
        "id": "5b64f0e7-14da-4e53-94d6-bc667c4c146a"
      },
      "outputs": [],
      "source": [
        "# Label Encoding on Categorical Column\n",
        "label_encoders = {}\n",
        "for column in df.select_dtypes(include = ['object']).columns:\n",
        "    le = LabelEncoder()\n",
        "    df[column] = le.fit_transform(df[column])\n",
        "    label_encoders[column] = le"
      ]
    },
    {
      "cell_type": "code",
      "execution_count": null,
      "id": "57a760d9-29b1-405f-a09b-10a0ae00a4eb",
      "metadata": {
        "id": "57a760d9-29b1-405f-a09b-10a0ae00a4eb"
      },
      "outputs": [],
      "source": [
        "# Getting input and output data\n",
        "X = df.drop('Tumor_Type', axis = 1)\n",
        "y = df['Tumor_Type']\n",
        "\n",
        "# Performing train test split\n",
        "X_train, X_test, y_train, y_test = train_test_split(X, y, test_size = 0.2, random_state = 5)"
      ]
    },
    {
      "cell_type": "code",
      "source": [
        "# Creating the RandomForestClassifier()\n",
        "clf = RandomForestClassifier(random_state = 5)\n",
        "\n",
        "# Fitting the data\n",
        "clf.fit(X_train, y_train)"
      ],
      "metadata": {
        "id": "5iP0F40yS4WP"
      },
      "id": "5iP0F40yS4WP",
      "execution_count": null,
      "outputs": []
    },
    {
      "cell_type": "code",
      "source": [
        "# Taking the predictions from the model\n",
        "y_train_pred = clf.predict(X_train)\n",
        "y_test_pred = clf.predict(X_test)"
      ],
      "metadata": {
        "id": "jUHyX6xxS4ZQ"
      },
      "id": "jUHyX6xxS4ZQ",
      "execution_count": null,
      "outputs": []
    },
    {
      "cell_type": "code",
      "execution_count": null,
      "id": "1dc741ac-4f6c-4f2b-98de-8c575fe9a4dd",
      "metadata": {
        "id": "1dc741ac-4f6c-4f2b-98de-8c575fe9a4dd"
      },
      "outputs": [],
      "source": [
        "# Model Evaluation\n",
        "print('Training Accuracy :', np.round(metrics.accuracy_score(y_train, y_train_pred), 3))\n",
        "print('Training Precision :', np.round(metrics.precision_score(y_train, y_train_pred), 3))\n",
        "print('Training Recall :', np.round(metrics.recall_score(y_train, y_train_pred), 3))\n",
        "print('Training F1 Score :', np.round(metrics.f1_score(y_train, y_train_pred), 3))\n",
        "\n",
        "print('\\nTesting Accuracy :', np.round(metrics.accuracy_score(y_test, y_test_pred), 3))\n",
        "print('Testing Precision :', np.round(metrics.precision_score(y_test, y_test_pred), 3))\n",
        "print('Testing Recall :', np.round(metrics.recall_score(y_test, y_test_pred), 3))\n",
        "print('Testing F1 Score :', np.round(metrics.f1_score(y_test, y_test_pred), 3))"
      ]
    },
    {
      "cell_type": "code",
      "source": [
        "# Installing xgboost\n",
        "!pip install xgboost"
      ],
      "metadata": {
        "id": "qg6lMFE2UPHB"
      },
      "id": "qg6lMFE2UPHB",
      "execution_count": null,
      "outputs": []
    },
    {
      "cell_type": "code",
      "source": [
        "# Creating the XGBoost()\n",
        "from xgboost import XGBClassifier\n",
        "xgb = XGBClassifier(random_state = 5)\n",
        "\n",
        "# Fitting the data\n",
        "xgb.fit(X_train, y_train)"
      ],
      "metadata": {
        "id": "BRD9ILGlUPJo"
      },
      "id": "BRD9ILGlUPJo",
      "execution_count": null,
      "outputs": []
    },
    {
      "cell_type": "code",
      "source": [
        "# Taking the predictions from the model\n",
        "y_train_pred = xgb.predict(X_train)\n",
        "y_test_pred = xgb.predict(X_test)"
      ],
      "metadata": {
        "id": "j82D65HVUPMK"
      },
      "id": "j82D65HVUPMK",
      "execution_count": null,
      "outputs": []
    },
    {
      "cell_type": "code",
      "source": [
        "# Model Evaluation\n",
        "print('Training Accuracy :', np.round(metrics.accuracy_score(y_train, y_train_pred), 3))\n",
        "print('Training Precision :', np.round(metrics.precision_score(y_train, y_train_pred), 3))\n",
        "print('Training Recall :', np.round(metrics.recall_score(y_train, y_train_pred), 3))\n",
        "print('Training F1 Score :', np.round(metrics.f1_score(y_train, y_train_pred), 3))\n",
        "\n",
        "print('\\nTesting Accuracy :', np.round(metrics.accuracy_score(y_test, y_test_pred), 3))\n",
        "print('Testing Precision :', np.round(metrics.precision_score(y_test, y_test_pred), 3))\n",
        "print('Testing Recall :', np.round(metrics.recall_score(y_test, y_test_pred), 3))\n",
        "print('Testing F1 Score :', np.round(metrics.f1_score(y_test, y_test_pred), 3))"
      ],
      "metadata": {
        "id": "79l8CC9yUPOp"
      },
      "id": "79l8CC9yUPOp",
      "execution_count": null,
      "outputs": []
    },
    {
      "cell_type": "code",
      "source": [
        "'''\n",
        "Even XGBoost Classifier is overfitting.\n",
        "\n",
        "We can try to optimize the predictive performance of the model by the following methods ->\n",
        "(1) Instead of Label Encoding, we can do One-Hot-Encoding / we can use replace() to manually replace the data\n",
        "(2) We can do hyper-parameter optimization using GridSearchCV() / RandomizedSearchCV()\n",
        "(3) After step 1, we can try to further do EDA and discard irrelevant data from the model\n",
        "'''"
      ],
      "metadata": {
        "id": "UGC9mrDNUPRO"
      },
      "id": "UGC9mrDNUPRO",
      "execution_count": null,
      "outputs": []
    },
    {
      "cell_type": "code",
      "source": [
        "# Save the model (RandomForestClassifier())\n",
        "with open('random_forest_classifier.pkl', 'wb') as file:\n",
        "    pickle.dump(clf, file)"
      ],
      "metadata": {
        "id": "qIM2zv-7UPT8"
      },
      "id": "qIM2zv-7UPT8",
      "execution_count": null,
      "outputs": []
    },
    {
      "cell_type": "code",
      "source": [],
      "metadata": {
        "id": "CgkVX8kPUPWN"
      },
      "id": "CgkVX8kPUPWN",
      "execution_count": null,
      "outputs": []
    },
    {
      "cell_type": "code",
      "source": [],
      "metadata": {
        "id": "IdGL-bJzUPYe"
      },
      "id": "IdGL-bJzUPYe",
      "execution_count": null,
      "outputs": []
    },
    {
      "cell_type": "code",
      "execution_count": null,
      "id": "57b07bf4-9716-48cc-a41b-c8cb2f23bbb4",
      "metadata": {
        "id": "57b07bf4-9716-48cc-a41b-c8cb2f23bbb4"
      },
      "outputs": [],
      "source": []
    }
  ],
  "metadata": {
    "kernelspec": {
      "display_name": "Python 3 (ipykernel)",
      "language": "python",
      "name": "python3"
    },
    "language_info": {
      "codemirror_mode": {
        "name": "ipython",
        "version": 3
      },
      "file_extension": ".py",
      "mimetype": "text/x-python",
      "name": "python",
      "nbconvert_exporter": "python",
      "pygments_lexer": "ipython3",
      "version": "3.12.7"
    },
    "colab": {
      "provenance": []
    }
  },
  "nbformat": 4,
  "nbformat_minor": 5
}